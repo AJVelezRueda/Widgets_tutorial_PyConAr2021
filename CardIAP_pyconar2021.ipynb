{
 "cells": [
  {
   "cell_type": "code",
   "execution_count": 28,
   "metadata": {},
   "outputs": [],
   "source": [
    "# display\n",
    "from IPython.display import HTML, display\n",
    "\n",
    "# widgets\n",
    "import ipywidgets as widgets\n",
    "from ipywidgets import Layout, VBox"
   ]
  },
  {
   "cell_type": "code",
   "execution_count": 29,
   "metadata": {},
   "outputs": [],
   "source": [
    "h1_main = widgets.HTML('''\n",
    "    <h1>Welcome to CardiAP</h1>\n",
    "    ''')\n",
    "p_main = widgets.HTML('''\n",
    "    <p>CardIAP is an open-source web application for analyzing series of calcium handling phenomena from confocal microscopy images. CardIAP is a Python based tool, which allows users to easily work with a single file or a pool of images, and obtain representative amplitude and kinetics data.</p>\n",
    "    ''')"
   ]
  },
  {
   "cell_type": "code",
   "execution_count": 30,
   "metadata": {},
   "outputs": [],
   "source": [
    "main_vbox = widgets.VBox([h1_main, p_main])"
   ]
  },
  {
   "cell_type": "code",
   "execution_count": 35,
   "metadata": {},
   "outputs": [
    {
     "data": {
      "application/vnd.jupyter.widget-view+json": {
       "model_id": "9d975dfdf65d48c8a7d142a2a4ec9d1b",
       "version_major": 2,
       "version_minor": 0
      },
      "text/plain": [
       "VBox(children=(HTML(value='\\n    <h1>Welcome to CardiAP</h1>\\n    '), HTML(value='\\n    <p>CardIAP is an open-…"
      ]
     },
     "metadata": {},
     "output_type": "display_data"
    }
   ],
   "source": [
    "display(main_vbox)"
   ]
  },
  {
   "cell_type": "code",
   "execution_count": null,
   "metadata": {},
   "outputs": [],
   "source": []
  },
  {
   "cell_type": "code",
   "execution_count": null,
   "metadata": {},
   "outputs": [],
   "source": []
  },
  {
   "cell_type": "code",
   "execution_count": null,
   "metadata": {},
   "outputs": [],
   "source": []
  },
  {
   "cell_type": "code",
   "execution_count": null,
   "metadata": {},
   "outputs": [],
   "source": []
  },
  {
   "cell_type": "code",
   "execution_count": null,
   "metadata": {},
   "outputs": [],
   "source": []
  },
  {
   "cell_type": "code",
   "execution_count": null,
   "metadata": {},
   "outputs": [],
   "source": []
  },
  {
   "cell_type": "code",
   "execution_count": 13,
   "metadata": {},
   "outputs": [],
   "source": [
    "h1_main_section = widgets.HTML(\"\"\"\n",
    "    <h1 style='font-size:25px; color:black'>\n",
    "        Welcome to Cardi<b>AP</b>\n",
    "    </h1>\"\"\")\n",
    "\n",
    "athors_section_title = widgets.HTML(\"\"\"\n",
    "    <h2 style='font-size:25px; color:black'>\n",
    "        Authors\n",
    "    </h2>\"\"\")\n",
    "\n",
    "athors_section_description = widgets.HTML(\"\"\"\n",
    "    <p style='font-size:15px; color:black'> \n",
    "        So far, <b>CardIAP</b> was developed by Ana Julia Velez Rueda, Agustin García Smith, Leandro M. Sommese\n",
    "    </p>\"\"\")\n",
    "\n",
    "layout = Layout(display='flex',\n",
    "                    flex_flow='row',\n",
    "                    align_items='stretch',\n",
    "                    width='50%',\n",
    "                    margin='0px 10px 10px 20px',\n",
    "                    padding=' 2px 5px 0 5px',\n",
    "                    justify_content='flex-start')"
   ]
  },
  {
   "cell_type": "code",
   "execution_count": 16,
   "metadata": {},
   "outputs": [],
   "source": [
    "#main_vbox = widgets.VBox([h1_main_section])"
   ]
  },
  {
   "cell_type": "code",
   "execution_count": 17,
   "metadata": {},
   "outputs": [],
   "source": [
    "#display(main_vbox)"
   ]
  },
  {
   "cell_type": "code",
   "execution_count": null,
   "metadata": {},
   "outputs": [],
   "source": []
  }
 ],
 "metadata": {
  "kernelspec": {
   "display_name": "Python 3",
   "language": "python",
   "name": "python3"
  },
  "language_info": {
   "codemirror_mode": {
    "name": "ipython",
    "version": 3
   },
   "file_extension": ".py",
   "mimetype": "text/x-python",
   "name": "python",
   "nbconvert_exporter": "python",
   "pygments_lexer": "ipython3",
   "version": "3.8.5"
  }
 },
 "nbformat": 4,
 "nbformat_minor": 4
}
